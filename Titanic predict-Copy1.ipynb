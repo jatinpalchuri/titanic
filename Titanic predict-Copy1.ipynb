{
 "cells": [
  {
   "cell_type": "markdown",
   "metadata": {},
   "source": [
    "# Data Visualization"
   ]
  },
  {
   "cell_type": "code",
   "execution_count": 26,
   "metadata": {},
   "outputs": [],
   "source": [
    "import pandas as pd\n",
    "import numpy as np\n",
    "import seaborn as sns\n",
    "import matplotlib.pyplot as plt\n",
    "\n",
    "\n",
    "from sklearn.model_selection import train_test_split\n",
    "\n",
    "%matplotlib inline\n",
    "\n",
    "training_data = pd.read_csv('C:/Users/jatin/Downloads/titanic/titanic/train.csv')\n",
    "test_data = pd.read_csv('C:/Users/jatin/Downloads/titanic/titanic/train.csv')\n",
    "p_id = test_data['PassengerId']\n",
    "data = pd.concat([training_data, test_data])\n"
   ]
  },
  {
   "cell_type": "code",
   "execution_count": 27,
   "metadata": {},
   "outputs": [
    {
     "name": "stdout",
     "output_type": "stream",
     "text": [
      "       PassengerId     Survived       Pclass          Age        SibSp  \\\n",
      "count  1782.000000  1782.000000  1782.000000  1428.000000  1782.000000   \n",
      "mean    446.000000     0.383838     2.308642    29.699118     0.523008   \n",
      "std     257.281582     0.486456     0.835836    14.521407     1.102434   \n",
      "min       1.000000     0.000000     1.000000     0.420000     0.000000   \n",
      "25%     223.250000     0.000000     2.000000    20.000000     0.000000   \n",
      "50%     446.000000     0.000000     3.000000    28.000000     0.000000   \n",
      "75%     668.750000     1.000000     3.000000    38.000000     1.000000   \n",
      "max     891.000000     1.000000     3.000000    80.000000     8.000000   \n",
      "\n",
      "             Parch         Fare  \n",
      "count  1782.000000  1782.000000  \n",
      "mean      0.381594    32.204208  \n",
      "std       0.805831    49.679476  \n",
      "min       0.000000     0.000000  \n",
      "25%       0.000000     7.903100  \n",
      "50%       0.000000    14.454200  \n",
      "75%       0.000000    31.000000  \n",
      "max       6.000000   512.329200  \n",
      "<class 'pandas.core.frame.DataFrame'>\n",
      "Int64Index: 1782 entries, 0 to 890\n",
      "Data columns (total 12 columns):\n",
      " #   Column       Non-Null Count  Dtype  \n",
      "---  ------       --------------  -----  \n",
      " 0   PassengerId  1782 non-null   int64  \n",
      " 1   Survived     1782 non-null   int64  \n",
      " 2   Pclass       1782 non-null   int64  \n",
      " 3   Name         1782 non-null   object \n",
      " 4   Sex          1782 non-null   object \n",
      " 5   Age          1428 non-null   float64\n",
      " 6   SibSp        1782 non-null   int64  \n",
      " 7   Parch        1782 non-null   int64  \n",
      " 8   Ticket       1782 non-null   object \n",
      " 9   Fare         1782 non-null   float64\n",
      " 10  Cabin        408 non-null    object \n",
      " 11  Embarked     1778 non-null   object \n",
      "dtypes: float64(2), int64(5), object(5)\n",
      "memory usage: 181.0+ KB\n"
     ]
    }
   ],
   "source": [
    "print(data.describe())\n",
    "data.info()\n"
   ]
  },
  {
   "cell_type": "code",
   "execution_count": 28,
   "metadata": {},
   "outputs": [],
   "source": [
    "import warnings\n",
    "warnings.simplefilter('ignore')"
   ]
  },
  {
   "cell_type": "code",
   "execution_count": 29,
   "metadata": {},
   "outputs": [
    {
     "data": {
      "text/html": [
       "<div>\n",
       "<style scoped>\n",
       "    .dataframe tbody tr th:only-of-type {\n",
       "        vertical-align: middle;\n",
       "    }\n",
       "\n",
       "    .dataframe tbody tr th {\n",
       "        vertical-align: top;\n",
       "    }\n",
       "\n",
       "    .dataframe thead th {\n",
       "        text-align: right;\n",
       "    }\n",
       "</style>\n",
       "<table border=\"1\" class=\"dataframe\">\n",
       "  <thead>\n",
       "    <tr style=\"text-align: right;\">\n",
       "      <th></th>\n",
       "      <th>Total</th>\n",
       "      <th>%</th>\n",
       "    </tr>\n",
       "  </thead>\n",
       "  <tbody>\n",
       "    <tr>\n",
       "      <th>Cabin</th>\n",
       "      <td>1374</td>\n",
       "      <td>77.104377</td>\n",
       "    </tr>\n",
       "    <tr>\n",
       "      <th>Age</th>\n",
       "      <td>354</td>\n",
       "      <td>19.865320</td>\n",
       "    </tr>\n",
       "    <tr>\n",
       "      <th>Embarked</th>\n",
       "      <td>4</td>\n",
       "      <td>0.224467</td>\n",
       "    </tr>\n",
       "    <tr>\n",
       "      <th>Fare</th>\n",
       "      <td>0</td>\n",
       "      <td>0.000000</td>\n",
       "    </tr>\n",
       "    <tr>\n",
       "      <th>Ticket</th>\n",
       "      <td>0</td>\n",
       "      <td>0.000000</td>\n",
       "    </tr>\n",
       "  </tbody>\n",
       "</table>\n",
       "</div>"
      ],
      "text/plain": [
       "          Total          %\n",
       "Cabin      1374  77.104377\n",
       "Age         354  19.865320\n",
       "Embarked      4   0.224467\n",
       "Fare          0   0.000000\n",
       "Ticket        0   0.000000"
      ]
     },
     "execution_count": 29,
     "metadata": {},
     "output_type": "execute_result"
    }
   ],
   "source": [
    "#a comprehensive look at the mssing values\n",
    "totalmissingdata = data.isnull().sum().sort_values(ascending=False)\n",
    "percentmissingdata = data.isnull().sum()/data.isnull().count()*100\n",
    "missing_data = pd.concat([totalmissingdata, percentmissingdata], axis=1, keys=['Total', '%'])\n",
    "missing_data.head(5)"
   ]
  },
  {
   "cell_type": "code",
   "execution_count": 30,
   "metadata": {},
   "outputs": [
    {
     "data": {
      "text/plain": [
       "<matplotlib.axes._subplots.AxesSubplot at 0x2907fd7f850>"
      ]
     },
     "execution_count": 30,
     "metadata": {},
     "output_type": "execute_result"
    },
    {
     "data": {
      "image/png": "[encoded data removed]",
      "text/plain": [
       "<Figure size 720x360 with 1 Axes>"
      ]
     },
     "metadata": {
      "needs_background": "light"
     },
     "output_type": "display_data"
    },
    {
     "data": {
      "image/png": "[encoded data removed]",
      "text/plain": [
       "<Figure size 720x360 with 1 Axes>"
      ]
     },
     "metadata": {
      "needs_background": "light"
     },
     "output_type": "display_data"
    }
   ],
   "source": [
    "\n",
    "data['Died']=1-data['Survived']\n",
    "data.groupby('Sex').agg('mean')[['Survived', 'Died']].plot(kind= 'bar', figsize=(10, 5), \n",
    "                                                           stacked=True, color=['b', 'r'])\n",
    "data.groupby('Age').agg('sum')[['Survived', 'Died']].plot(kind= 'bar', figsize=(10, 5), \n",
    "                                                           stacked=True, color=['b', 'r'])                                                           "
   ]
  },
  {
   "cell_type": "code",
   "execution_count": 31,
   "metadata": {},
   "outputs": [
    {
     "data": {
      "image/png": "[encoded data removed]",
      "text/plain": [
       "<Figure size 720x288 with 2 Axes>"
      ]
     },
     "metadata": {
      "needs_background": "light"
     },
     "output_type": "display_data"
    }
   ],
   "source": [
    "\n",
    "fig, axes = plt.subplots(nrows=1, ncols=2,figsize=(10, 4))\n",
    "women = data[data['Sex']=='female']\n",
    "men = data[data['Sex']=='male']\n",
    "ax = sns.distplot(women[women['Survived']==1].Age.dropna(), bins=18, label = 'survived', ax = axes[0], kde =False, color= 'b')\n",
    "ax = sns.distplot(women[women['Survived']==0].Age.dropna(), bins=40, label = 'died', ax = axes[0], kde =False, color='r')\n",
    "ax.legend()\n",
    "ax.set_title('Female')\n",
    "ax = sns.distplot(men[men['Survived']==1].Age.dropna(), bins=18, label = 'survived', ax = axes[1], kde = False, color='b')\n",
    "ax = sns.distplot(men[men['Survived']==0].Age.dropna(), bins=40, label = 'died', ax = axes[1], kde = False, color='r')\n",
    "ax.legend()\n",
    "_ = ax.set_title('Male')"
   ]
  },
  {
   "cell_type": "code",
   "execution_count": 32,
   "metadata": {},
   "outputs": [
    {
     "data": {
      "text/plain": [
       "<matplotlib.legend.Legend at 0x29001c1caf0>"
      ]
     },
     "execution_count": 32,
     "metadata": {},
     "output_type": "execute_result"
    },
    {
     "data": {
      "image/png": "[encoded data removed]",
      "text/plain": [
       "<Figure size 720x360 with 1 Axes>"
      ]
     },
     "metadata": {
      "needs_background": "light"
     },
     "output_type": "display_data"
    },
    {
     "data": {
      "image/png": "[encoded data removed]",
      "text/plain": [
       "<Figure size 720x360 with 1 Axes>"
      ]
     },
     "metadata": {
      "needs_background": "light"
     },
     "output_type": "display_data"
    }
   ],
   "source": [
    "figure = plt.figure(figsize=(10, 5))\n",
    "plt.hist([data[data['Survived'] == 1]['Fare'], data[data['Survived'] == 0]['Fare']], \n",
    "         stacked=True, color = ['b','g'],\n",
    "         bins = 50, label = ['Survived','Dead'])\n",
    "plt.xlabel('Fare')\n",
    "plt.ylabel('Number of passengers')\n",
    "plt.legend()\n",
    "\n",
    "figure1 = plt.figure(figsize=(10, 5))\n",
    "plt.hist([data[data['Survived'] == 1]['Pclass'], data[data['Survived'] == 0]['Pclass']], \n",
    "         stacked=True, color = ['b','r'],\n",
    "         bins = 50, label = ['Survived','Dead'])\n",
    "plt.xlabel('Pclass')\n",
    "plt.ylabel('Number of passengers')\n",
    "plt.legend()"
   ]
  },
  {
   "cell_type": "code",
   "execution_count": 33,
   "metadata": {},
   "outputs": [
    {
     "data": {
      "text/plain": [
       "<matplotlib.axes._subplots.AxesSubplot at 0x29001c0fdf0>"
      ]
     },
     "execution_count": 33,
     "metadata": {},
     "output_type": "execute_result"
    },
    {
     "data": {
      "image/png": "[encoded data removed]",
      "text/plain": [
       "<Figure size 720x360 with 1 Axes>"
      ]
     },
     "metadata": {
      "needs_background": "light"
     },
     "output_type": "display_data"
    }
   ],
   "source": [
    "ax = plt.subplot()\n",
    "ax.set_ylabel('Average fare')\n",
    "data.groupby('Pclass').mean()['Fare'].plot(kind='bar', figsize=(10, 5), ax = ax)"
   ]
  },
  {
   "cell_type": "code",
   "execution_count": 34,
   "metadata": {},
   "outputs": [
    {
     "data": {
      "image/png": "[encoded data removed]",
      "text/plain": [
       "<Figure size 720x360 with 1 Axes>"
      ]
     },
     "metadata": {
      "needs_background": "light"
     },
     "output_type": "display_data"
    }
   ],
   "source": [
    "fig = plt.figure(figsize=(10, 5))\n",
    "sns.violinplot(x='Embarked', y='Fare', hue='Survived', data=data, split=True, palette={0: \"r\", 1: \"b\"});"
   ]
  },
  {
   "cell_type": "code",
   "execution_count": 35,
   "metadata": {},
   "outputs": [
    {
     "data": {
      "image/png": "[encoded data removed]",
      "text/plain": [
       "<Figure size 720x360 with 1 Axes>"
      ]
     },
     "metadata": {
      "needs_background": "light"
     },
     "output_type": "display_data"
    }
   ],
   "source": [
    "data['Relatives']= data['SibSp']+data['Parch']\n",
    "data.loc[data['Relatives'] > 0, 'not_alone'] = 0\n",
    "data.loc[data['Relatives'] == 0, 'not_alone'] = 1\n",
    "data['not_alone'] = data['not_alone'].astype(int)\n",
    "\n",
    "axes = sns.factorplot('Relatives','Survived', \n",
    "                      data=data, aspect = 2, )"
   ]
  },
  {
   "cell_type": "markdown",
   "metadata": {},
   "source": [
    "# Data Processing"
   ]
  },
  {
   "cell_type": "code",
   "execution_count": 36,
   "metadata": {},
   "outputs": [],
   "source": [
    "import pandas as pd\n",
    "import numpy as np\n",
    "import matplotlib\n",
    "import matplotlib.pyplot as plt\n",
    "%matplotlib inline\n",
    "from sklearn import linear_model, preprocessing"
   ]
  },
  {
   "cell_type": "markdown",
   "metadata": {},
   "source": [
    "# Read training  and test data "
   ]
  },
  {
   "cell_type": "code",
   "execution_count": 37,
   "metadata": {},
   "outputs": [],
   "source": [
    "df=pd.read_csv('C:/Users/jatin/Downloads/titanic/titanic/train.csv',index_col=0)"
   ]
  },
  {
   "cell_type": "code",
   "execution_count": 38,
   "metadata": {},
   "outputs": [],
   "source": [
    "df1=pd.read_csv('C:/Users/jatin/Downloads/titanic/titanic/test.csv',index_col=0)"
   ]
  },
  {
   "cell_type": "markdown",
   "metadata": {},
   "source": [
    "# Train and Test data has 687 and 327 missing values in Cabin"
   ]
  },
  {
   "cell_type": "code",
   "execution_count": 39,
   "metadata": {},
   "outputs": [],
   "source": [
    "df=df.drop(['Cabin'],axis=1)"
   ]
  },
  {
   "cell_type": "code",
   "execution_count": 40,
   "metadata": {},
   "outputs": [],
   "source": [
    "df1=df1.drop(['Cabin'],axis=1)\n"
   ]
  },
  {
   "cell_type": "markdown",
   "metadata": {},
   "source": [
    "# Since passenger class, embarked location,fare   is given so  Ticket number has no prominent significance."
   ]
  },
  {
   "cell_type": "code",
   "execution_count": 41,
   "metadata": {},
   "outputs": [],
   "source": [
    "df=df.drop(['Ticket'],axis=1)\n",
    "df1=df1.drop(['Ticket'],axis=1)\n"
   ]
  },
  {
   "cell_type": "markdown",
   "metadata": {},
   "source": [
    "# Seperate survival values from training dataset to create the output labels"
   ]
  },
  {
   "cell_type": "code",
   "execution_count": 42,
   "metadata": {},
   "outputs": [
    {
     "data": {
      "text/html": [
       "<div>\n",
       "<style scoped>\n",
       "    .dataframe tbody tr th:only-of-type {\n",
       "        vertical-align: middle;\n",
       "    }\n",
       "\n",
       "    .dataframe tbody tr th {\n",
       "        vertical-align: top;\n",
       "    }\n",
       "\n",
       "    .dataframe thead th {\n",
       "        text-align: right;\n",
       "    }\n",
       "</style>\n",
       "<table border=\"1\" class=\"dataframe\">\n",
       "  <thead>\n",
       "    <tr style=\"text-align: right;\">\n",
       "      <th></th>\n",
       "      <th>Pclass</th>\n",
       "      <th>Name</th>\n",
       "      <th>Sex</th>\n",
       "      <th>Age</th>\n",
       "      <th>SibSp</th>\n",
       "      <th>Parch</th>\n",
       "      <th>Fare</th>\n",
       "      <th>Embarked</th>\n",
       "    </tr>\n",
       "    <tr>\n",
       "      <th>PassengerId</th>\n",
       "      <th></th>\n",
       "      <th></th>\n",
       "      <th></th>\n",
       "      <th></th>\n",
       "      <th></th>\n",
       "      <th></th>\n",
       "      <th></th>\n",
       "      <th></th>\n",
       "    </tr>\n",
       "  </thead>\n",
       "  <tbody>\n",
       "    <tr>\n",
       "      <th>1</th>\n",
       "      <td>3</td>\n",
       "      <td>Braund, Mr. Owen Harris</td>\n",
       "      <td>male</td>\n",
       "      <td>22.0</td>\n",
       "      <td>1</td>\n",
       "      <td>0</td>\n",
       "      <td>7.2500</td>\n",
       "      <td>S</td>\n",
       "    </tr>\n",
       "    <tr>\n",
       "      <th>2</th>\n",
       "      <td>1</td>\n",
       "      <td>Cumings, Mrs. John Bradley (Florence Briggs Th...</td>\n",
       "      <td>female</td>\n",
       "      <td>38.0</td>\n",
       "      <td>1</td>\n",
       "      <td>0</td>\n",
       "      <td>71.2833</td>\n",
       "      <td>C</td>\n",
       "    </tr>\n",
       "    <tr>\n",
       "      <th>3</th>\n",
       "      <td>3</td>\n",
       "      <td>Heikkinen, Miss. Laina</td>\n",
       "      <td>female</td>\n",
       "      <td>26.0</td>\n",
       "      <td>0</td>\n",
       "      <td>0</td>\n",
       "      <td>7.9250</td>\n",
       "      <td>S</td>\n",
       "    </tr>\n",
       "    <tr>\n",
       "      <th>4</th>\n",
       "      <td>1</td>\n",
       "      <td>Futrelle, Mrs. Jacques Heath (Lily May Peel)</td>\n",
       "      <td>female</td>\n",
       "      <td>35.0</td>\n",
       "      <td>1</td>\n",
       "      <td>0</td>\n",
       "      <td>53.1000</td>\n",
       "      <td>S</td>\n",
       "    </tr>\n",
       "    <tr>\n",
       "      <th>5</th>\n",
       "      <td>3</td>\n",
       "      <td>Allen, Mr. William Henry</td>\n",
       "      <td>male</td>\n",
       "      <td>35.0</td>\n",
       "      <td>0</td>\n",
       "      <td>0</td>\n",
       "      <td>8.0500</td>\n",
       "      <td>S</td>\n",
       "    </tr>\n",
       "    <tr>\n",
       "      <th>6</th>\n",
       "      <td>3</td>\n",
       "      <td>Moran, Mr. James</td>\n",
       "      <td>male</td>\n",
       "      <td>NaN</td>\n",
       "      <td>0</td>\n",
       "      <td>0</td>\n",
       "      <td>8.4583</td>\n",
       "      <td>Q</td>\n",
       "    </tr>\n",
       "  </tbody>\n",
       "</table>\n",
       "</div>"
      ],
      "text/plain": [
       "             Pclass                                               Name  \\\n",
       "PassengerId                                                              \n",
       "1                 3                            Braund, Mr. Owen Harris   \n",
       "2                 1  Cumings, Mrs. John Bradley (Florence Briggs Th...   \n",
       "3                 3                             Heikkinen, Miss. Laina   \n",
       "4                 1       Futrelle, Mrs. Jacques Heath (Lily May Peel)   \n",
       "5                 3                           Allen, Mr. William Henry   \n",
       "6                 3                                   Moran, Mr. James   \n",
       "\n",
       "                Sex   Age  SibSp  Parch     Fare Embarked  \n",
       "PassengerId                                                \n",
       "1              male  22.0      1      0   7.2500        S  \n",
       "2            female  38.0      1      0  71.2833        C  \n",
       "3            female  26.0      0      0   7.9250        S  \n",
       "4            female  35.0      1      0  53.1000        S  \n",
       "5              male  35.0      0      0   8.0500        S  \n",
       "6              male   NaN      0      0   8.4583        Q  "
      ]
     },
     "execution_count": 42,
     "metadata": {},
     "output_type": "execute_result"
    }
   ],
   "source": [
    "\n",
    "df3=df.drop(['Survived'],axis=1)\n",
    "df3.fillna('Empty',axis=1)\n",
    "df1.fillna('Empty')\n",
    "X_tr=np.array(df3)\n",
    "y_tr=np.array(df['Survived'])\n",
    "X_ts=np.array(df1)\n",
    "df3.head(6)"
   ]
  },
  {
   "cell_type": "markdown",
   "metadata": {},
   "source": [
    "# Read y_test file to calculate accuracy of the model"
   ]
  },
  {
   "cell_type": "code",
   "execution_count": 43,
   "metadata": {},
   "outputs": [],
   "source": [
    "df6=pd.read_csv('C:/Users/jatin/Downloads/titanic/titanic/gender_submission.csv',index_col=0)"
   ]
  },
  {
   "cell_type": "code",
   "execution_count": 44,
   "metadata": {},
   "outputs": [],
   "source": [
    "y_ts=np.array(df6)"
   ]
  },
  {
   "cell_type": "markdown",
   "metadata": {},
   "source": [
    "# convert gender into one hot encoding\n"
   ]
  },
  {
   "cell_type": "code",
   "execution_count": 45,
   "metadata": {},
   "outputs": [],
   "source": [
    "\n",
    "def gender_onehot(X):\n",
    "    \n",
    "    for i in range(X.shape[0]):\n",
    "        if('male' in X[i]  ):\n",
    "            X[i,2]=1\n",
    "        elif('female' in X[i]  ):\n",
    "            X[i,2]=0\n",
    "        \n",
    "    \n",
    "    return X\n",
    "    "
   ]
  },
  {
   "cell_type": "code",
   "execution_count": 46,
   "metadata": {},
   "outputs": [],
   "source": [
    "X_tr1=gender_onehot(X_tr)\n",
    "X_ts1=gender_onehot(X_ts)\n",
    "\n"
   ]
  },
  {
   "cell_type": "markdown",
   "metadata": {},
   "source": [
    "# Convert  Embarked into one hot encoding"
   ]
  },
  {
   "cell_type": "code",
   "execution_count": 47,
   "metadata": {},
   "outputs": [],
   "source": [
    "def embarked_onehot(X):\n",
    "    \n",
    "    for i in range(X.shape[0]):\n",
    "        if('Q' in X[i]  ):\n",
    "            X[i,7]=0\n",
    "        elif('S' in X[i]  ):\n",
    "            X[i,7]=1\n",
    "        elif('C' in X[i]  ):\n",
    "            X[i,7]=2\n",
    "       \n",
    "        \n",
    "    \n",
    "    return X"
   ]
  },
  {
   "cell_type": "code",
   "execution_count": 48,
   "metadata": {},
   "outputs": [],
   "source": [
    "X_tr2=embarked_onehot(X_tr1)\n",
    "X_ts2=embarked_onehot(X_ts1)"
   ]
  },
  {
   "cell_type": "markdown",
   "metadata": {},
   "source": [
    "# Extract person title from name"
   ]
  },
  {
   "cell_type": "code",
   "execution_count": 49,
   "metadata": {},
   "outputs": [],
   "source": [
    "def exfname(X):\n",
    "   \n",
    "    dict1={'Mr':0,'Sir':0,'Mrs':1,'Lady':1,'Dona':1,'Mme':1,'Mlle':1,'Countess':1,'the':1,'Miss':2,'Ms':2,'Master':3,'Dr':4,'Col':5,'Rev':6,'Don':7,'Capt':8,'Major':9,'Jonkheer':10}\n",
    "    cpunt=0\n",
    "    tl=['Mr','Mrs','Mme','Mlle','Countess','Miss','Ms','Master','Dr','Col','Rev','Don','Capt','Major','Jonkheer']\n",
    "    for i in range(len(X)):\n",
    "        h=X[i,1].split(',')\n",
    "        l=h[1].split('.')\n",
    "        t=l[0].split(' ')\n",
    "        if(t[1] in dict1):\n",
    "            X[i,1]=dict1[t[1]]\n",
    "                \n",
    "        else:\n",
    "            print(X[i,1])\n",
    "    \n",
    "    return X      \n",
    "             "
   ]
  },
  {
   "cell_type": "code",
   "execution_count": 50,
   "metadata": {},
   "outputs": [],
   "source": [
    "X_tr3=exfname(X_tr2)\n",
    "X_ts3=exfname(X_ts2)"
   ]
  },
  {
   "cell_type": "markdown",
   "metadata": {},
   "source": [
    "# For two  samples in training with Missing Embarked values  replace them by most frequently embarked location"
   ]
  },
  {
   "cell_type": "code",
   "execution_count": 51,
   "metadata": {},
   "outputs": [
    {
     "name": "stdout",
     "output_type": "stream",
     "text": [
      "Embarked at Q : 77\n",
      "Embarked at S : 644\n",
      "Embarked at C : 168\n"
     ]
    }
   ],
   "source": [
    "count0=0\n",
    "count1=0\n",
    "count2=0\n",
    "for i in range(X_tr3.shape[0]):\n",
    "    if((X_tr3[i,7])==0):\n",
    "        count0+=1\n",
    "    if((X_tr3[i,7])==1):\n",
    "        count1+=1\n",
    "    if((X_tr3[i,7])==2):\n",
    "        count2+=1\n",
    "print(\"Embarked at Q :\",count0)\n",
    "print(\"Embarked at S :\",count1)\n",
    "print(\"Embarked at C :\",count2)"
   ]
  },
  {
   "cell_type": "markdown",
   "metadata": {},
   "source": [
    "# Replace two samples with S value"
   ]
  },
  {
   "cell_type": "code",
   "execution_count": 52,
   "metadata": {},
   "outputs": [],
   "source": [
    "for i in range(X_tr3.shape[0]):\n",
    "    if(np.isnan(X_tr3[i,7])):\n",
    "        X_tr3[i,7]=1\n",
    "        "
   ]
  },
  {
   "cell_type": "markdown",
   "metadata": {},
   "source": [
    "# Test data has Fare  missing for one value replace it with mean  "
   ]
  },
  {
   "cell_type": "code",
   "execution_count": 53,
   "metadata": {},
   "outputs": [
    {
     "name": "stdout",
     "output_type": "stream",
     "text": [
      "35.54195598086121\n"
     ]
    }
   ],
   "source": [
    "sum1=0\n",
    "for i in range(X_ts3.shape[0]):\n",
    "    if((np.isnan(X_ts3[i,6]))==False):\n",
    "        \n",
    "    \n",
    "        sum1+=X_ts3[i,6]\n",
    "mean=sum1/X_ts3.shape[0]\n",
    "print(mean)\n",
    "        "
   ]
  },
  {
   "cell_type": "code",
   "execution_count": 54,
   "metadata": {},
   "outputs": [],
   "source": [
    "for i in range(X_ts3.shape[0]):\n",
    "    if(np.isnan(X_ts3[i,6])):\n",
    "        X_ts3[i,6]=mean"
   ]
  },
  {
   "cell_type": "markdown",
   "metadata": {},
   "source": [
    "# Convert age and fair into int data type"
   ]
  },
  {
   "cell_type": "code",
   "execution_count": 55,
   "metadata": {},
   "outputs": [],
   "source": [
    "for i in range(X_tr3.shape[0]):\n",
    "    if(np.isnan(X_tr3[i,3])==False):\n",
    "        X_tr3[i,3]=int(X_tr3[i,3])\n",
    "    X_tr3[i,6]=int(X_tr3[i,6])\n",
    "for i in range(X_ts3.shape[0]):\n",
    "    if(np.isnan(X_ts3[i,3])==False):\n",
    "        X_ts3[i,3]=int(X_ts3[i,3])\n",
    "    X_ts3[i,6]=int(X_ts3[i,6])"
   ]
  },
  {
   "cell_type": "markdown",
   "metadata": {},
   "source": [
    "# Predict age using linear regression"
   ]
  },
  {
   "cell_type": "markdown",
   "metadata": {},
   "source": [
    "# Get training and test set for predicting age from both training and test data"
   ]
  },
  {
   "cell_type": "code",
   "execution_count": 56,
   "metadata": {},
   "outputs": [],
   "source": [
    "X_agetr=[]\n",
    "agetr=[]\n",
    "X_agets=[]\n",
    "agets=[]\n",
    "\n",
    "for i in range(X_tr3.shape[0]):\n",
    "    m=[X_tr3[i,0],X_tr3[i,1],X_tr3[i,2],X_tr3[i,4],X_tr3[i,5],X_tr3[i,6],X_tr3[i,7]]\n",
    "    \n",
    "    if((np.isnan(X_tr3[i,3]))==False):\n",
    "       \n",
    "        X_agetr.append(m)\n",
    "        agetr.append(int(X_tr3[i,3]))\n",
    "    else:\n",
    "        X_agets.append(m)\n",
    "\n",
    "        \n",
    "X_agetr=np.array(X_agetr)\n",
    "agetr=np.array(agetr)\n",
    "\n",
    "X_agets=np.array(X_agets)"
   ]
  },
  {
   "cell_type": "code",
   "execution_count": 57,
   "metadata": {},
   "outputs": [],
   "source": [
    "X_agefts=[]\n",
    "for i in range(X_ts3.shape[0]):\n",
    "    m=[X_ts3[i,0],X_ts3[i,1],X_ts3[i,2],X_ts3[i,4],X_ts3[i,5],X_ts3[i,6],X_ts3[i,7]]\n",
    "    \n",
    "    if((np.isnan(X_ts3[i,3]))):\n",
    "        X_agefts.append(m)\n",
    "X_agefts=np.array(X_agefts)\n"
   ]
  },
  {
   "cell_type": "markdown",
   "metadata": {},
   "source": [
    "# Matrices for dropping age values"
   ]
  },
  {
   "cell_type": "code",
   "execution_count": 58,
   "metadata": {},
   "outputs": [
    {
     "name": "stdout",
     "output_type": "stream",
     "text": [
      "(332, 8)\n",
      "(714, 8)\n"
     ]
    }
   ],
   "source": [
    "X_agetr1=[]\n",
    "agetr1=[]\n",
    "X_agets1=[]\n",
    "\n",
    "\n",
    "for i in range(X_tr3.shape[0]):\n",
    "    if((np.isnan(X_tr3[i,3]))==False):\n",
    "       \n",
    "        X_agetr1.append(X_tr3[i])\n",
    "        agetr1.append(y_tr[i])\n",
    "    \n",
    "for i in range(X_ts3.shape[0]):\n",
    "   \n",
    "    \n",
    "    if((np.isnan(X_ts3[i,3])==False)):\n",
    "        X_agets1.append(X_ts3[i])\n",
    "\n",
    "X_agets1=np.array(X_agets1)\n",
    "X_agetr1=np.array(X_agetr1)\n",
    "agetr1=np.array(agetr1)\n",
    "print(X_agets1.shape)\n",
    "print(X_agetr1.shape)\n"
   ]
  },
  {
   "cell_type": "markdown",
   "metadata": {},
   "source": [
    "# No delayed model required so perform kfold and get best predictor"
   ]
  },
  {
   "cell_type": "code",
   "execution_count": 70,
   "metadata": {},
   "outputs": [
    {
     "data": {
      "application/vnd.jupyter.widget-view+json": {
       "model_id": "1d93eaeadb774f8da4e77fcc14f09fa0",
       "version_major": 2,
       "version_minor": 0
      },
      "text/plain": [
       "HBox(children=(FloatProgress(value=0.0, description='Model order test', max=315.0, style=ProgressStyle(descrip…"
      ]
     },
     "metadata": {},
     "output_type": "display_data"
    },
    {
     "name": "stdout",
     "output_type": "stream",
     "text": [
      "\n"
     ]
    }
   ],
   "source": [
    "nfold=15\n",
    "dmax = 20\n",
    "\n",
    "\n",
    "\n",
    "pbar = tqdm.notebook.tqdm(\n",
    "    total=315, initial=0,\n",
    "    unit='fits',  desc='Model order test')\n",
    "\n",
    "kf = sklearn.model_selection.KFold(n_splits=nfold,shuffle=True)\n",
    "dtest = np.arange(dmax+1)\n",
    "nd = len(dtest)\n",
    "rsq=np.zeros((nd,nfold))\n",
    "rss = np.zeros((nd,nfold))\n",
    "di=[]\n",
    "df=[]\n",
    "#kf.get_n_splits(Xtr_age)\n",
    "max1=0\n",
    "for it, d in enumerate(dtest):\n",
    "    Xdly, ydly = create_dly_data(X_agetr,agetr,d)\n",
    "    for ifold, I in enumerate(kf.split(X_agetr)):\n",
    "                Itr, Its = I\n",
    "                Xtr = X_agetr[Itr,:]\n",
    "                Xts = X_agetr[Its,:]\n",
    "                ytr = agetr[Itr]\n",
    "                yts = agetr[Its]\n",
    "                scaling = StandardScaler()\n",
    "                scaling.fit(Xtr)\n",
    "                Xtrs = scaling.transform(Xtr)\n",
    "                reg=lr()\n",
    "                Xtss =scaling.transform(Xts) \n",
    "                reg.fit(Xtrs,ytr)\n",
    "                \n",
    "                yhat=reg.predict(Xtss)\n",
    "                \n",
    "                rsq[it,ifold]= r2_score(yts, yhat) \n",
    "                if(r2_score(yts, yhat) >=max1):\n",
    "                    max1=r2_score(yts, yhat)\n",
    "                    im=it\n",
    "                    ifoldm=ifold\n",
    "                if(np.abs(r2_score(yts, yhat)-0.49)<0.09):\n",
    "                    X1=Xtrs\n",
    "                    \n",
    "                    y1=ytr\n",
    "                    xts1=scaling.transform(X_agets)\n",
    "                    xfts1=scaling.transform(X_agefts)\n",
    "                    \n",
    "                    \n",
    "                rss[it,ifold] = np.mean((yts-yhat)**2)\n",
    "                pbar.update(1)\n",
    "    df.append(di)\n",
    "                \n",
    "pbar.close()"
   ]
  },
  {
   "cell_type": "markdown",
   "metadata": {},
   "source": [
    "# Replace missing age values"
   ]
  },
  {
   "cell_type": "code",
   "execution_count": 71,
   "metadata": {},
   "outputs": [],
   "source": [
    "reg=lr()\n",
    "reg.fit(X1,y1)\n",
    "agets=reg.predict(xts1)\n",
    "j=0\n",
    "for i in range(X_tr3.shape[0]):\n",
    "    \n",
    "    \n",
    "    if((np.isnan(X_tr3[i,3]))):\n",
    "        X_tr3[i,3]=int(agets[j])\n",
    "        j+=1\n"
   ]
  },
  {
   "cell_type": "code",
   "execution_count": 72,
   "metadata": {},
   "outputs": [],
   "source": [
    "reg=lr()\n",
    "reg.fit(X1,y1)\n",
    "agets=reg.predict(xfts1)\n",
    "j=0\n",
    "for i in range(X_ts3.shape[0]):\n",
    "    \n",
    "    if((np.isnan(X_ts3[i,3]))):\n",
    "        X_ts3[i,3]=int(agets[j])\n",
    "        j+=1"
   ]
  },
  {
   "cell_type": "code",
   "execution_count": 73,
   "metadata": {},
   "outputs": [],
   "source": [
    "for i in range(X_ts3.shape[0]):\n",
    "    if((np.isnan(X_ts3[i,3]))):\n",
    "        print('nan values are still present')\n",
    "for i in range(X_tr3.shape[0]):\n",
    "    if((np.isnan(X_tr3[i,3]))):\n",
    "        print('nan values are still present')\n",
    "    "
   ]
  },
  {
   "cell_type": "markdown",
   "metadata": {},
   "source": [
    "# Data Training and Fit"
   ]
  },
  {
   "cell_type": "markdown",
   "metadata": {},
   "source": [
    "# Predict survival with predicted age values"
   ]
  },
  {
   "cell_type": "markdown",
   "metadata": {},
   "source": [
    "# Perform PCA on dataset"
   ]
  },
  {
   "cell_type": "code",
   "execution_count": 74,
   "metadata": {},
   "outputs": [],
   "source": [
    "from sklearn.preprocessing import StandardScaler\n",
    "from sklearn.linear_model import LogisticRegression\n",
    "nfold = 5\n",
    "kf = KFold(n_splits=nfold)\n",
    "kf.get_n_splits(X_tr3)\n",
    "ncomp_test = np.arange(2,9)\n",
    "num_nc = len(ncomp_test)\n",
    "acc = np.zeros((num_nc,nfold))\n",
    "for icomp, ncomp in enumerate(ncomp_test):\n",
    "    for ifold, I in enumerate(kf.split(X_tr3)):\n",
    "        Itr, Its = I\n",
    "        Xtr = X_tr3[Itr]\n",
    "        Xts = X_tr3[Its]\n",
    "        ytr = y_tr[Itr]\n",
    "        yts = y_tr[Its]\n",
    "        scaling = StandardScaler()\n",
    "        scaling.fit(Xtr)\n",
    "        Xtrs = scaling.transform(Xtr)\n",
    "        pca = PCA(n_components=ncomp)\n",
    "        pca.fit(Xtrs)\n",
    "        Ztr = pca.transform(Xtrs)\n",
    "        logreg = LogisticRegression(multi_class='ovr', solver='lbfgs')\n",
    "        logreg.fit(Ztr,ytr)\n",
    "        Xtss = scaling.transform(Xts)\n",
    "        Zts = pca.transform(Xtss)\n",
    "        yhat = logreg.predict(Zts)\n",
    "        acc[icomp, ifold] = np.mean(yhat == yts)"
   ]
  },
  {
   "cell_type": "code",
   "execution_count": 75,
   "metadata": {},
   "outputs": [
    {
     "name": "stdout",
     "output_type": "stream",
     "text": [
      "Optimal number of PCs (normal rule) = 8\n",
      "Best test accuracy =  0.7968\n",
      "Optimal number of PCs (one SE) = 4\n",
      "Best test accuracy =  0.7923\n"
     ]
    },
    {
     "data": {
      "image/png": "[encoded data removed]",
      "text/plain": [
       "<Figure size 432x288 with 1 Axes>"
      ]
     },
     "metadata": {
      "needs_background": "light"
     },
     "output_type": "display_data"
    }
   ],
   "source": [
    "acc_mean = np.mean(acc, axis=1)\n",
    "acc_se = np.std(acc, axis=1) / np.sqrt(nfold-1)\n",
    "plt.errorbar(ncomp_test, acc_mean, yerr=acc_se)\n",
    "plt.grid()\n",
    "plt.xlabel('Num PCs')\n",
    "plt.ylabel('Test accuracy')\n",
    "im = np.argmax(acc_mean)\n",
    "print('Optimal number of PCs (normal rule) = %d' % (ncomp_test[im]))\n",
    "print('Best test accuracy = %7.4f' % acc_mean[im])\n",
    "acc_tgt = acc_mean[im] - acc_se[im]\n",
    "I = np.where(acc_mean >= acc_tgt)[0]\n",
    "ise = I[0]\n",
    "print('Optimal number of PCs (one SE) = %d' % (ncomp_test[ise]))\n",
    "print('Best test accuracy = %7.4f' % acc_mean[ise])"
   ]
  },
  {
   "cell_type": "code",
   "execution_count": 76,
   "metadata": {},
   "outputs": [],
   "source": [
    "scaling = StandardScaler()\n",
    "scaling.fit(X_tr3)\n",
    "Xtrs = scaling.transform(X_tr3)\n",
    "pca = PCA(n_components=4)\n",
    "pca.fit(Xtrs)\n",
    "Ztr = pca.transform(Xtrs)\n",
    "logreg = LogisticRegression(multi_class='ovr', solver='lbfgs')\n",
    "logreg.fit(Ztr,y_tr)\n",
    "Xtss = scaling.transform(X_ts3)\n",
    "Zts = pca.transform(Xtss)\n",
    "yhat = logreg.predict_proba(Zts)\n",
    "ykk=logreg.predict(Zts)\n",
    "\n"
   ]
  },
  {
   "cell_type": "code",
   "execution_count": 77,
   "metadata": {},
   "outputs": [
    {
     "name": "stdout",
     "output_type": "stream",
     "text": [
      "        Pclass      Name       Sex       Age     SibSp     Parch      Fare  \\\n",
      "PC-1 -0.176250  0.445167 -0.428715 -0.255169  0.416771  0.456121  0.353919   \n",
      "PC-2 -0.609015 -0.063373 -0.024385  0.472628 -0.254575 -0.134129  0.437714   \n",
      "PC-3  0.052012 -0.500614  0.528885 -0.207962  0.383065  0.254356  0.229927   \n",
      "PC-4 -0.143509 -0.138086  0.191307  0.406993  0.266149  0.285554  0.204531   \n",
      "\n",
      "      Embarked  \n",
      "PC-1  0.121866  \n",
      "PC-2  0.355978  \n",
      "PC-3  0.399263  \n",
      "PC-4 -0.750923  \n"
     ]
    }
   ],
   "source": [
    "print(pd.DataFrame(pca.components_,columns=df3.columns,index = ['PC-1','PC-2','PC-3','PC-4']))"
   ]
  },
  {
   "cell_type": "code",
   "execution_count": 78,
   "metadata": {},
   "outputs": [
    {
     "name": "stdout",
     "output_type": "stream",
     "text": [
      "[[251  10]\n",
      " [ 15 142]]\n"
     ]
    }
   ],
   "source": [
    "from sklearn.metrics import confusion_matrix\n",
    "print(confusion_matrix(ykk,y_ts))"
   ]
  },
  {
   "cell_type": "code",
   "execution_count": 79,
   "metadata": {},
   "outputs": [
    {
     "data": {
      "image/png": "[encoded data removed]",
      "text/plain": [
       "<Figure size 432x288 with 1 Axes>"
      ]
     },
     "metadata": {
      "needs_background": "light"
     },
     "output_type": "display_data"
    }
   ],
   "source": [
    "\n",
    "menMeans = (confusion_matrix(ykk,y_ts)[0][0],confusion_matrix(ykk,y_ts)[1][1])\n",
    "womenMeans = (confusion_matrix(ykk,y_ts)[0][1],confusion_matrix(ykk,y_ts)[1][0])\n",
    "\n",
    "ind = (0,1)    # the x locations for the groups\n",
    "width = 0.35       # the width of the bars: can also be len(x) sequence\n",
    "\n",
    "p1 = plt.bar(ind, menMeans,width)\n",
    "p2 = plt.bar(ind, womenMeans, width,\n",
    "             bottom=menMeans)\n",
    "\n",
    "plt.ylabel('Number of Correctly precited values')\n",
    "plt.title('Predicted values')\n",
    "plt.xticks(ind, ('Class 0', 'Class 1'))\n",
    "\n",
    "plt.legend((p1[0], p2[0]), ('True class values', 'False class values'))\n",
    "\n",
    "plt.show()\n",
    "\n"
   ]
  },
  {
   "cell_type": "code",
   "execution_count": 80,
   "metadata": {},
   "outputs": [
    {
     "name": "stdout",
     "output_type": "stream",
     "text": [
      "Accuracy in %: 94.01913875598086\n"
     ]
    }
   ],
   "source": [
    "count=0\n",
    "for i in range(418):\n",
    "    if(ykk[i]==y_ts[i]):\n",
    "       count+=1\n",
    "print(\"Accuracy in %:\",(count/418)*100)"
   ]
  },
  {
   "cell_type": "markdown",
   "metadata": {},
   "source": [
    "# Predict with dropped age missing values  datset"
   ]
  },
  {
   "cell_type": "code",
   "execution_count": 81,
   "metadata": {},
   "outputs": [],
   "source": [
    "from sklearn.preprocessing import StandardScaler\n",
    "from sklearn.linear_model import LogisticRegression\n",
    "nfold = 5\n",
    "kf = KFold(n_splits=nfold)\n",
    "kf.get_n_splits(X_agetr1)\n",
    "ncomp_test = np.arange(2,9)\n",
    "num_nc = len(ncomp_test)\n",
    "acc = np.zeros((num_nc,nfold))\n",
    "for icomp, ncomp in enumerate(ncomp_test):\n",
    "    for ifold, I in enumerate(kf.split(X_agetr1)):\n",
    "        Itr, Its = I\n",
    "        Xtr = X_agetr1[Itr]\n",
    "        Xts = X_agetr1[Its]\n",
    "        ytr = agetr1[Itr]\n",
    "        yts = agetr1[Its]\n",
    "        scaling = StandardScaler()\n",
    "        scaling.fit(Xtr)\n",
    "        Xtrs = scaling.transform(Xtr)\n",
    "        pca = PCA(n_components=ncomp)\n",
    "        pca.fit(Xtrs)\n",
    "        Ztr = pca.transform(Xtrs)\n",
    "        logreg = LogisticRegression(multi_class='ovr', solver='lbfgs')\n",
    "        logreg.fit(Ztr,ytr)\n",
    "        Xtss = scaling.transform(Xts)\n",
    "        Zts = pca.transform(Xtss)\n",
    "        yhat = logreg.predict(Zts)\n",
    "        acc[icomp, ifold] = np.mean(yhat == yts)"
   ]
  },
  {
   "cell_type": "code",
   "execution_count": 82,
   "metadata": {},
   "outputs": [
    {
     "name": "stdout",
     "output_type": "stream",
     "text": [
      "Optimal number of PCs (normal rule) = 8\n",
      "Best test accuracy =  0.7886\n",
      "Optimal number of PCs (one SE) = 6\n",
      "Best test accuracy =  0.7788\n"
     ]
    },
    {
     "data": {
      "image/png": "[encoded data removed]",
      "text/plain": [
       "<Figure size 432x288 with 1 Axes>"
      ]
     },
     "metadata": {
      "needs_background": "light"
     },
     "output_type": "display_data"
    }
   ],
   "source": [
    "acc_mean = np.mean(acc, axis=1)\n",
    "acc_se = np.std(acc, axis=1) / np.sqrt(nfold-1)\n",
    "plt.errorbar(ncomp_test, acc_mean, yerr=acc_se)\n",
    "plt.grid()\n",
    "plt.xlabel('Num PCs')\n",
    "plt.ylabel('Test accuracy')\n",
    "im = np.argmax(acc_mean)\n",
    "print('Optimal number of PCs (normal rule) = %d' % (ncomp_test[im]))\n",
    "print('Best test accuracy = %7.4f' % acc_mean[im])\n",
    "acc_tgt = acc_mean[im] - acc_se[im]\n",
    "I = np.where(acc_mean >= acc_tgt)[0]\n",
    "ise = I[0]\n",
    "print('Optimal number of PCs (one SE) = %d' % (ncomp_test[ise]))\n",
    "print('Best test accuracy = %7.4f' % acc_mean[ise])"
   ]
  },
  {
   "cell_type": "code",
   "execution_count": 83,
   "metadata": {},
   "outputs": [
    {
     "name": "stdout",
     "output_type": "stream",
     "text": [
      "(418,)\n",
      "(418, 1)\n"
     ]
    }
   ],
   "source": [
    "scaling = StandardScaler()\n",
    "scaling.fit(X_agetr1)\n",
    "Xtrs = scaling.transform(X_agetr1)\n",
    "pca = PCA(n_components=6)\n",
    "pca.fit(Xtrs)\n",
    "Ztr = pca.transform(Xtrs)\n",
    "logreg = LogisticRegression(multi_class='ovr')\n",
    "logreg.fit(Ztr,agetr1)\n",
    "Xtss = scaling.transform(X_ts3)\n",
    "Zts = pca.transform(Xtss)\n",
    "yhat = logreg.predict(Zts)\n",
    "print(yhat.shape)\n",
    "print(y_ts.shape)\n"
   ]
  },
  {
   "cell_type": "code",
   "execution_count": 84,
   "metadata": {},
   "outputs": [
    {
     "name": "stdout",
     "output_type": "stream",
     "text": [
      "        Pclass      Name       Sex       Age     SibSp     Parch      Fare  \\\n",
      "PC-1 -0.350066  0.410803 -0.430073 -0.099538  0.324015  0.390390  0.459191   \n",
      "PC-2 -0.515557 -0.197396  0.080949  0.507873 -0.374224 -0.282788  0.321679   \n",
      "PC-3 -0.052699  0.521687 -0.516996  0.191616 -0.387711 -0.274506 -0.285860   \n",
      "PC-4 -0.170768 -0.059625  0.198402  0.493057  0.254399  0.276647  0.137874   \n",
      "PC-5  0.246352 -0.403249 -0.417596  0.252322 -0.346998  0.621591 -0.128884   \n",
      "PC-6 -0.031642 -0.344181 -0.217616 -0.499696 -0.323997 -0.140983  0.521184   \n",
      "\n",
      "      Embarked  \n",
      "PC-1  0.213488  \n",
      "PC-2  0.327503  \n",
      "PC-3 -0.337156  \n",
      "PC-4 -0.724261  \n",
      "PC-5  0.123502  \n",
      "PC-6 -0.432438  \n"
     ]
    }
   ],
   "source": [
    "print(pd.DataFrame(pca.components_,columns=df3.columns,index = ['PC-1','PC-2','PC-3','PC-4','PC-5','PC-6']))"
   ]
  },
  {
   "cell_type": "code",
   "execution_count": 85,
   "metadata": {},
   "outputs": [
    {
     "name": "stdout",
     "output_type": "stream",
     "text": [
      "[[249  10]\n",
      " [ 17 142]]\n"
     ]
    }
   ],
   "source": [
    "from sklearn.metrics import confusion_matrix\n",
    "print(confusion_matrix(yhat,y_ts))"
   ]
  },
  {
   "cell_type": "code",
   "execution_count": 86,
   "metadata": {},
   "outputs": [
    {
     "name": "stdout",
     "output_type": "stream",
     "text": [
      "Accuracy in %: 93.54066985645933\n"
     ]
    }
   ],
   "source": [
    "count=0\n",
    "for i in range(418):\n",
    "    if(yhat[i]==y_ts[i]):\n",
    "       count+=1\n",
    "print(\"Accuracy in %:\",(count/418)*100)"
   ]
  },
  {
   "cell_type": "code",
   "execution_count": 87,
   "metadata": {},
   "outputs": [
    {
     "data": {
      "image/png": "[encoded data removed]",
      "text/plain": [
       "<Figure size 432x288 with 1 Axes>"
      ]
     },
     "metadata": {
      "needs_background": "light"
     },
     "output_type": "display_data"
    }
   ],
   "source": [
    "\n",
    "menMeans = (confusion_matrix(yhat,y_ts)[0][0],confusion_matrix(yhat,y_ts)[1][1])\n",
    "womenMeans = (confusion_matrix(yhat,y_ts)[0][1],confusion_matrix(yhat,y_ts)[1][0])\n",
    "\n",
    "ind = (0,1)    # the x locations for the groups\n",
    "width = 0.35       # the width of the bars: can also be len(x) sequence\n",
    "\n",
    "p1 = plt.bar(ind, menMeans,width)\n",
    "p2 = plt.bar(ind, womenMeans, width,\n",
    "             bottom=menMeans)\n",
    "\n",
    "plt.ylabel('Number of Correctly precited values')\n",
    "plt.title('Predicted values')\n",
    "plt.xticks(ind, ('Class 0', 'Class 1'))\n",
    "\n",
    "plt.legend((p1[0], p2[0]), ('True class values', 'False class values'))\n",
    "\n",
    "plt.show()\n"
   ]
  },
  {
   "cell_type": "markdown",
   "metadata": {},
   "source": [
    "# Just by dropping age values we get lower accuracy and requires 6 principal components  where as  predicting age values before training,  just  requires 4 principal components and gives higher accuracy"
   ]
  },
  {
   "cell_type": "code",
   "execution_count": null,
   "metadata": {},
   "outputs": [],
   "source": []
  }
 ],
 "metadata": {
  "kernelspec": {
   "display_name": "Python 3",
   "language": "python",
   "name": "python3"
  },
  "language_info": {
   "codemirror_mode": {
    "name": "ipython",
    "version": 3
   },
   "file_extension": ".py",
   "mimetype": "text/x-python",
   "name": "python",
   "nbconvert_exporter": "python",
   "pygments_lexer": "ipython3",
   "version": "3.8.3"
  }
 },
 "nbformat": 4,
 "nbformat_minor": 4
}
